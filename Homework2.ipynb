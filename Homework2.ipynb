{
 "cells": [
  {
   "cell_type": "code",
   "execution_count": 2,
   "id": "020d48de-e300-4056-bba5-ee53d2513443",
   "metadata": {},
   "outputs": [
    {
     "name": "stdin",
     "output_type": "stream",
     "text": [
      " 4 5\n"
     ]
    },
    {
     "name": "stdout",
     "output_type": "stream",
     "text": [
      "Dien tich: 20\n",
      "Chu vi: 18\n"
     ]
    }
   ],
   "source": [
    "# B1\n",
    "a, b = map(int, input().split())\n",
    "print(\"Dien tich:\",a*b)\n",
    "print(\"Chu vi:\", (a+b)*2)"
   ]
  },
  {
   "cell_type": "code",
   "execution_count": 3,
   "id": "60475a13-58a5-4225-b2e7-a911552e994f",
   "metadata": {},
   "outputs": [
    {
     "name": "stdin",
     "output_type": "stream",
     "text": [
      " 3\n"
     ]
    },
    {
     "name": "stdout",
     "output_type": "stream",
     "text": [
      "Dien tich: 28.26\n",
      "Chu vi: 18.84\n"
     ]
    }
   ],
   "source": [
    "# B2\n",
    "r = int(input())\n",
    "PI = 3.14\n",
    "print(\"Dien tich:\", r*r*PI)\n",
    "print(\"Chu vi:\", 2*r*PI)"
   ]
  },
  {
   "cell_type": "code",
   "execution_count": 14,
   "id": "3a0fd2c3-bb46-40e1-8bbf-fbdd0413e5c1",
   "metadata": {},
   "outputs": [
    {
     "name": "stdin",
     "output_type": "stream",
     "text": [
      " 3 5 5\n"
     ]
    },
    {
     "name": "stdout",
     "output_type": "stream",
     "text": [
      "Tam giac can\n"
     ]
    }
   ],
   "source": [
    "# B3\n",
    "x = list(map(int, input().split()))\n",
    "x.sort()\n",
    "a, b, c = [ x[i] for i in range(3) ]\n",
    "if a + b <= c:\n",
    "    print(\"Khong la ba canh cua mot tam giac\")\n",
    "else:\n",
    "    if a == b or b == c:\n",
    "        if a == b == c:\n",
    "            print(\"Tam giac deu\")\n",
    "        else:\n",
    "            print(\"Tam giac can\")\n",
    "    else:\n",
    "        print(\"Tam giac thuong\")\n",
    "    "
   ]
  },
  {
   "cell_type": "code",
   "execution_count": 18,
   "id": "bbfbfae9-1946-49b8-93c8-af0ebb64ceb1",
   "metadata": {},
   "outputs": [
    {
     "name": "stdin",
     "output_type": "stream",
     "text": [
      " 0 0\n"
     ]
    },
    {
     "name": "stdout",
     "output_type": "stream",
     "text": [
      "Vo so nghiem\n"
     ]
    }
   ],
   "source": [
    "# B4\n",
    "a, b = map(int, input().split())\n",
    "if a == 0:\n",
    "    if b == 0:\n",
    "        print(\"Vo so nghiem\")\n",
    "    else:\n",
    "        print(\"Vo nghiem\")\n",
    "else:\n",
    "    print(\"Pt co nghiem duy nhat la:\",-b / a)"
   ]
  },
  {
   "cell_type": "code",
   "execution_count": 28,
   "id": "841b3c6b-3639-49f2-8afb-85e21e7f767c",
   "metadata": {},
   "outputs": [
    {
     "name": "stdin",
     "output_type": "stream",
     "text": [
      " 1 4 1\n"
     ]
    },
    {
     "name": "stdout",
     "output_type": "stream",
     "text": [
      "Pt co 2 nghiem la: -0.27, -3.73\n"
     ]
    }
   ],
   "source": [
    "# B5\n",
    "from math import sqrt\n",
    "a, b, c = map(int, input().split())\n",
    "if a == 0:\n",
    "    if b == 0:\n",
    "        if c == 0:\n",
    "            print(\"Vo so nghiem\")\n",
    "        else:\n",
    "            print(\"Vo nghiem\")\n",
    "    else:\n",
    "        print(\"Pt co nghiem duy nhat la:\", -c / b)\n",
    "else:\n",
    "    delta = b*b - 4*a*c\n",
    "    if delta > 0:\n",
    "        print(f\"Pt co 2 nghiem la: {(-b + sqrt(delta)) / 2*a:.2f}, {(-b - sqrt(delta)) / 2*a:.2f}\")\n",
    "    elif delta < 0:\n",
    "        print(\"Vo nghiem\")\n",
    "    else:\n",
    "        print(\"Pt co nghiem duy nhat la:\", -b / 2*a)"
   ]
  },
  {
   "cell_type": "code",
   "execution_count": 3,
   "id": "bcf2ee4e-2a8e-4370-9ae5-b173b6215ca7",
   "metadata": {},
   "outputs": [
    {
     "name": "stdin",
     "output_type": "stream",
     "text": [
      " 4 7 1 3\n"
     ]
    },
    {
     "name": "stdout",
     "output_type": "stream",
     "text": [
      "7\n"
     ]
    }
   ],
   "source": [
    "# B6\n",
    "inp = list(map(int, input().split()))\n",
    "inp.sort()\n",
    "a, b, c, d = [inp[i] for i in range(4)]\n",
    "print(d)"
   ]
  },
  {
   "cell_type": "code",
   "execution_count": 4,
   "id": "bcb19a30-4505-49cd-ac88-100e43e814b5",
   "metadata": {},
   "outputs": [
    {
     "name": "stdin",
     "output_type": "stream",
     "text": [
      " 4 1 2 3\n"
     ]
    },
    {
     "name": "stdout",
     "output_type": "stream",
     "text": [
      "1\n"
     ]
    }
   ],
   "source": [
    "# B7\n",
    "inp = list(map(int, input().split()))\n",
    "inp.sort()\n",
    "a, b, c, d = [inp[i] for i in range(4)]\n",
    "print(a)"
   ]
  },
  {
   "cell_type": "code",
   "execution_count": 15,
   "id": "719b2e9c-1a1e-459a-bee2-7819cc2e475a",
   "metadata": {},
   "outputs": [
    {
     "name": "stdin",
     "output_type": "stream",
     "text": [
      "Nhap phuong trinh thu nhat:  0 3 0\n",
      "Nhap phuong trinh thu hai:  0 3 1\n"
     ]
    },
    {
     "name": "stdout",
     "output_type": "stream",
     "text": [
      "Vo nghiem\n"
     ]
    }
   ],
   "source": [
    "# B8\n",
    "a, b, m = map(float, input(\"Nhap phuong trinh thu nhat: \").split())\n",
    "c, d, n = map(float, input(\"Nhap phuong trinh thu hai: \").split())\n",
    "if a == b == c == d == 0:\n",
    "    if m == n == 0:\n",
    "        print(\"Vo so nghiem\")\n",
    "    else:\n",
    "        print(\"Vo nghiem\")\n",
    "else:\n",
    "    if b*c - a*d == 0:\n",
    "        if m*c - n*a == 0 and m*d - n*b == 0:\n",
    "            print(\"Vo so nghiem\")\n",
    "        else:\n",
    "            print(\"Vo nghiem\")\n",
    "    else:\n",
    "        y = (m*c-n*a) / (b*c-a*d)\n",
    "        if a != 0:\n",
    "            x = (m - b*y) / a\n",
    "        else:\n",
    "            x = (n - d*y) / c\n"
   ]
  },
  {
   "cell_type": "code",
   "execution_count": 6,
   "id": "d726038a-905e-4380-96b1-64512d274ff6",
   "metadata": {},
   "outputs": [
    {
     "name": "stdin",
     "output_type": "stream",
     "text": [
      " 3700\n"
     ]
    },
    {
     "name": "stdout",
     "output_type": "stream",
     "text": [
      "1 gio, 1 phut, 40 giay\n"
     ]
    }
   ],
   "source": [
    "# B9\n",
    "x = int(input())\n",
    "gio = x // 3600\n",
    "x %= 3600\n",
    "phut = x // 60\n",
    "x %= 60\n",
    "print(f\"{gio} gio, {phut} phut, {x} giay\")"
   ]
  },
  {
   "cell_type": "code",
   "execution_count": 8,
   "id": "71702e32-568b-4a9a-b483-f5d17cf94e76",
   "metadata": {},
   "outputs": [
    {
     "name": "stdin",
     "output_type": "stream",
     "text": [
      "Nhap toa do tam:  3 4\n",
      "Nhap ban kinh:  3\n",
      "Nhap toa do diem A 6 4\n"
     ]
    },
    {
     "name": "stdout",
     "output_type": "stream",
     "text": [
      "Diem A thuoc duong tron\n"
     ]
    }
   ],
   "source": [
    "# B10\n",
    "a, b = map(int, input(\"Nhap toa do tam: \").split())\n",
    "r = int(input(\"Nhap ban kinh: \"))\n",
    "x, y = map(int, input(\"Nhap toa do diem A\").split())\n",
    "if (x-a)**2 + (y-b)**2 == r*r:\n",
    "    print(\"Diem A thuoc duong tron\")\n",
    "else:\n",
    "    print(\"Diem A khong thuoc duong tron\")"
   ]
  },
  {
   "cell_type": "code",
   "execution_count": 12,
   "id": "3d20d3aa-e3d5-4f7e-af79-07184390749b",
   "metadata": {},
   "outputs": [
    {
     "name": "stdin",
     "output_type": "stream",
     "text": [
      " 2.5 3.5\n"
     ]
    },
    {
     "name": "stdout",
     "output_type": "stream",
     "text": [
      "24.71\n"
     ]
    }
   ],
   "source": [
    "# B11\n",
    "x,y = map(float, input().split())\n",
    "print(f\"{x**y:.2f}\")"
   ]
  },
  {
   "cell_type": "code",
   "execution_count": null,
   "id": "67b3f1e0-dfaf-4a72-aa98-7c2b2a9b09a0",
   "metadata": {},
   "outputs": [],
   "source": []
  }
 ],
 "metadata": {
  "kernelspec": {
   "display_name": "Python 3 (ipykernel)",
   "language": "python",
   "name": "python3"
  },
  "language_info": {
   "codemirror_mode": {
    "name": "ipython",
    "version": 3
   },
   "file_extension": ".py",
   "mimetype": "text/x-python",
   "name": "python",
   "nbconvert_exporter": "python",
   "pygments_lexer": "ipython3",
   "version": "3.11.1"
  }
 },
 "nbformat": 4,
 "nbformat_minor": 5
}
