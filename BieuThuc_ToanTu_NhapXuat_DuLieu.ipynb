{
 "cells": [
  {
   "cell_type": "code",
   "execution_count": 1,
   "id": "71ad7284-be3b-4a7a-af47-9b9eba379973",
   "metadata": {},
   "outputs": [
    {
     "name": "stdout",
     "output_type": "stream",
     "text": [
      "Hello World\n"
     ]
    }
   ],
   "source": [
    "# W2A1\n",
    "print(\"Hello World\")"
   ]
  },
  {
   "cell_type": "code",
   "execution_count": 2,
   "id": "43b51b90-ac61-4140-80b4-5ef9f8228186",
   "metadata": {},
   "outputs": [
    {
     "name": "stdin",
     "output_type": "stream",
     "text": [
      " qb\n"
     ]
    },
    {
     "name": "stdout",
     "output_type": "stream",
     "text": [
      "Hello qb\n"
     ]
    }
   ],
   "source": [
    "# W2A2\n",
    "ten = input()\n",
    "print(\"Hello\", ten)"
   ]
  },
  {
   "cell_type": "code",
   "execution_count": 6,
   "id": "28221684-be16-408c-89ee-61c552dedd23",
   "metadata": {},
   "outputs": [
    {
     "name": "stdin",
     "output_type": "stream",
     "text": [
      " 3 4\n"
     ]
    },
    {
     "name": "stdout",
     "output_type": "stream",
     "text": [
      "3 + 4 = 7\n",
      "3 - 4 = -1\n",
      "3 * 4 = 12\n",
      "3 // 4 = 0\n",
      "3 % 4 = 3\n",
      "3 / 4 = 0.75\n"
     ]
    }
   ],
   "source": [
    "# W2A3\n",
    "a,b = map(int,input().split())\n",
    "print(f'{a} + {b} = {a + b}')\n",
    "print(f'{a} - {b} = {a - b}')\n",
    "print(f'{a} * {b} = {a * b}')\n",
    "print(f'{a} // {b} = {a // b}')\n",
    "print(f'{a} % {b} = {a % b}')\n",
    "print(f'{a} / {b} = {a/b:.2f}')"
   ]
  },
  {
   "cell_type": "code",
   "execution_count": 8,
   "id": "47f2d8e1-7695-45e9-b6f2-bead91e754c5",
   "metadata": {},
   "outputs": [
    {
     "name": "stdin",
     "output_type": "stream",
     "text": [
      " 1 2 3 4 5 6\n"
     ]
    },
    {
     "name": "stdout",
     "output_type": "stream",
     "text": [
      "4.2\n"
     ]
    }
   ],
   "source": [
    "# W2A4\n",
    "a1, b1, c1, a2, b2, a3 = map(float, input().split())\n",
    "ans = (a1 + b1 + c1 + 2*a2 + 2*b2 + a3*3)/10\n",
    "print(f\"{ans:.1f}\")"
   ]
  },
  {
   "cell_type": "code",
   "execution_count": 9,
   "id": "b8e53642-3580-4c66-9d38-c8be100e4a6d",
   "metadata": {},
   "outputs": [
    {
     "name": "stdin",
     "output_type": "stream",
     "text": [
      " 2 3\n"
     ]
    },
    {
     "name": "stdout",
     "output_type": "stream",
     "text": [
      "8\n"
     ]
    }
   ],
   "source": [
    "# W2A5\n",
    "a, b = map(int, input().split())\n",
    "print(a**b)"
   ]
  },
  {
   "cell_type": "code",
   "execution_count": 11,
   "id": "b3b8377e-a6c9-40b8-a0a6-1e5f9aa410ec",
   "metadata": {},
   "outputs": [
    {
     "name": "stdin",
     "output_type": "stream",
     "text": [
      " b\n"
     ]
    },
    {
     "name": "stdout",
     "output_type": "stream",
     "text": [
      "98\n",
      "B\n"
     ]
    }
   ],
   "source": [
    "# W2A6\n",
    "c = input()\n",
    "print(ord(c))\n",
    "print(c.upper())"
   ]
  },
  {
   "cell_type": "code",
   "execution_count": 12,
   "id": "094a4bd0-bb62-4d4b-8269-561af2005dea",
   "metadata": {},
   "outputs": [
    {
     "name": "stdout",
     "output_type": "stream",
     "text": [
      "512 512\n"
     ]
    }
   ],
   "source": [
    "# W2A7\n",
    "A = ((13**2)*3 + 5)\n",
    "B = 13**2*3 + 5\n",
    "print(A,B)"
   ]
  },
  {
   "cell_type": "code",
   "execution_count": 15,
   "id": "55975a87-fa1d-4d27-b613-5762b3315e45",
   "metadata": {},
   "outputs": [
    {
     "name": "stdin",
     "output_type": "stream",
     "text": [
      " 24\n"
     ]
    },
    {
     "name": "stdout",
     "output_type": "stream",
     "text": [
      "75.20\n"
     ]
    }
   ],
   "source": [
    "# W2A8\n",
    "c = float(input())\n",
    "f = 9/5*c + 32\n",
    "print(f\"{f:.2f}\")"
   ]
  },
  {
   "cell_type": "code",
   "execution_count": 16,
   "id": "10790aed-e347-4e7c-943d-8465f04d4f99",
   "metadata": {},
   "outputs": [
    {
     "name": "stdin",
     "output_type": "stream",
     "text": [
      " 5\n"
     ]
    },
    {
     "name": "stdout",
     "output_type": "stream",
     "text": [
      "17.00\n"
     ]
    }
   ],
   "source": [
    "# W2A9\n",
    "x = int(input())\n",
    "ans = x * 140 / 100 + 10\n",
    "print(f\"{ans:.2f}\")"
   ]
  },
  {
   "cell_type": "code",
   "execution_count": 17,
   "id": "60db3de8-e0b0-428f-add3-f5163dfd97a5",
   "metadata": {},
   "outputs": [
    {
     "name": "stdin",
     "output_type": "stream",
     "text": [
      " Bob Alice helen\n"
     ]
    },
    {
     "name": "stdout",
     "output_type": "stream",
     "text": [
      "Hi helen, Alice and Bob.\n"
     ]
    }
   ],
   "source": [
    "# W2A10\n",
    "a,b,c = input().split()\n",
    "print(f\"Hi {c}, {b} and {a}.\")"
   ]
  },
  {
   "cell_type": "code",
   "execution_count": 21,
   "id": "a1562479-66d5-451d-82cf-5f277fc963fc",
   "metadata": {},
   "outputs": [
    {
     "name": "stdin",
     "output_type": "stream",
     "text": [
      " 3 6\n"
     ]
    },
    {
     "name": "stdout",
     "output_type": "stream",
     "text": [
      "11160\n"
     ]
    }
   ],
   "source": [
    "# W2A11\n",
    "h, m = map(int, input().split())\n",
    "print(h*3600 + m*60)"
   ]
  },
  {
   "cell_type": "code",
   "execution_count": 22,
   "id": "685a58aa-1737-40f2-898f-57d2a3639b3e",
   "metadata": {},
   "outputs": [
    {
     "name": "stdin",
     "output_type": "stream",
     "text": [
      " 5\n"
     ]
    },
    {
     "name": "stdout",
     "output_type": "stream",
     "text": [
      "150\n"
     ]
    }
   ],
   "source": [
    "# W2A12\n",
    "n = int(input())\n",
    "print(n*n*6)"
   ]
  },
  {
   "cell_type": "code",
   "execution_count": 23,
   "id": "5d1ddc77-a37e-4fc4-b475-6e2b82758701",
   "metadata": {},
   "outputs": [
    {
     "name": "stdin",
     "output_type": "stream",
     "text": [
      " 4 6\n"
     ]
    },
    {
     "name": "stdout",
     "output_type": "stream",
     "text": [
      "4\n"
     ]
    }
   ],
   "source": [
    "# W2A13\n",
    "a,b = map(int, input().split())\n",
    "print((a*b) % 10)"
   ]
  },
  {
   "cell_type": "code",
   "execution_count": 27,
   "id": "87381a22-43cf-4c1e-9f05-6972c357d4be",
   "metadata": {},
   "outputs": [
    {
     "name": "stdin",
     "output_type": "stream",
     "text": [
      " 3 4\n"
     ]
    },
    {
     "name": "stdout",
     "output_type": "stream",
     "text": [
      "4 3\n"
     ]
    }
   ],
   "source": [
    "# W2A14\n",
    "a, b = map(int, input().split())\n",
    "a, b = b, a\n",
    "print(a,b)"
   ]
  },
  {
   "cell_type": "code",
   "execution_count": 28,
   "id": "0889ddaf-8ec9-4303-8f92-50db115e1409",
   "metadata": {},
   "outputs": [
    {
     "name": "stdin",
     "output_type": "stream",
     "text": [
      " 6\n"
     ]
    },
    {
     "name": "stdout",
     "output_type": "stream",
     "text": [
      "181\n"
     ]
    }
   ],
   "source": [
    "# W2A15\n",
    "n = int(input())\n",
    "print(6*n*(n-1)+1)"
   ]
  },
  {
   "cell_type": "code",
   "execution_count": 32,
   "id": "99ac571d-d039-4af5-9ae0-2c8e5f523914",
   "metadata": {},
   "outputs": [
    {
     "name": "stdout",
     "output_type": "stream",
     "text": [
      "Spring\n",
      "Summer\n",
      "Autumn\n",
      "Winter\n"
     ]
    }
   ],
   "source": [
    "# W2A16\n",
    "print(\n",
    "'''Spring\n",
    "Summer\n",
    "Autumn\n",
    "Winter'''\n",
    ")"
   ]
  },
  {
   "cell_type": "code",
   "execution_count": 37,
   "id": "aabe316c-d788-4c50-ac1d-a2e893c8cb56",
   "metadata": {},
   "outputs": [
    {
     "name": "stdout",
     "output_type": "stream",
     "text": [
      " * \n",
      " *** \n",
      " ***** \n"
     ]
    }
   ],
   "source": [
    "# W2A17\n",
    "print(\" * \")\n",
    "print(\" *** \")\n",
    "print(\" ***** \")"
   ]
  },
  {
   "cell_type": "code",
   "execution_count": 38,
   "id": "ba300470-0e8f-4190-bfc3-ee07c387edff",
   "metadata": {},
   "outputs": [
    {
     "name": "stdout",
     "output_type": "stream",
     "text": [
      "\n",
      "###  # #   ### ###\n",
      " #   #  #   #   #\n",
      " #   #   #  #   #\n",
      " #   #  #   #   #\n",
      " #   # #    #   #\n",
      "\n"
     ]
    }
   ],
   "source": [
    "# W2A18\n",
    "print(\n",
    "'''\n",
    "###  # #   ### ###\n",
    " #   #  #   #   #\n",
    " #   #   #  #   #\n",
    " #   #  #   #   #\n",
    " #   # #    #   #\n",
    "'''    \n",
    ")"
   ]
  },
  {
   "cell_type": "code",
   "execution_count": 39,
   "id": "d8fa1421-c9c6-45eb-a85b-dc5c6f152596",
   "metadata": {},
   "outputs": [
    {
     "name": "stdout",
     "output_type": "stream",
     "text": [
      "Monday\n",
      "Tuesday\n",
      "Wednesday\n",
      "Thursday\n",
      "Friday\n",
      "Saturday\n",
      "Sunday\n"
     ]
    }
   ],
   "source": [
    "# W2A19\n",
    "print(\n",
    "'''Monday\n",
    "Tuesday\n",
    "Wednesday\n",
    "Thursday\n",
    "Friday\n",
    "Saturday\n",
    "Sunday''')"
   ]
  },
  {
   "cell_type": "code",
   "execution_count": 40,
   "id": "323cb9a4-d916-4b9f-b175-ce06106f399e",
   "metadata": {},
   "outputs": [
    {
     "name": "stdout",
     "output_type": "stream",
     "text": [
      "January\n",
      "February\n",
      "March\n",
      "April\n",
      "May\n",
      "June\n",
      "July\n",
      "August\n",
      "September\n",
      "October\n",
      "November\n",
      "December\n"
     ]
    }
   ],
   "source": [
    "# W2A20\n",
    "print(\n",
    "'''January\n",
    "February\n",
    "March\n",
    "April\n",
    "May\n",
    "June\n",
    "July\n",
    "August\n",
    "September\n",
    "October\n",
    "November\n",
    "December''')"
   ]
  },
  {
   "cell_type": "code",
   "execution_count": 41,
   "id": "3799a37e-dbb5-4fc6-948b-0f372667d820",
   "metadata": {},
   "outputs": [
    {
     "name": "stdout",
     "output_type": "stream",
     "text": [
      "Hello world\n",
      "Hello world\n",
      "Hello world\n",
      "Hello world\n",
      "Hello world\n",
      "Hello world\n",
      "Hello world\n",
      "Hello world\n",
      "Hello world\n",
      "Hello world\n",
      "\n"
     ]
    }
   ],
   "source": [
    "# W2A21\n",
    "print(\"Hello world\\n\" * 10)"
   ]
  }
 ],
 "metadata": {
  "kernelspec": {
   "display_name": "Python 3 (ipykernel)",
   "language": "python",
   "name": "python3"
  },
  "language_info": {
   "codemirror_mode": {
    "name": "ipython",
    "version": 3
   },
   "file_extension": ".py",
   "mimetype": "text/x-python",
   "name": "python",
   "nbconvert_exporter": "python",
   "pygments_lexer": "ipython3",
   "version": "3.11.1"
  }
 },
 "nbformat": 4,
 "nbformat_minor": 5
}
