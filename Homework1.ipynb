{
 "cells": [
  {
   "cell_type": "code",
   "execution_count": 2,
   "id": "3398900b-6626-4c4c-97d0-c76b1c213ef0",
   "metadata": {},
   "outputs": [
    {
     "name": "stdin",
     "output_type": "stream",
     "text": [
      " 3\n"
     ]
    },
    {
     "name": "stdout",
     "output_type": "stream",
     "text": [
      "6\n"
     ]
    }
   ],
   "source": [
    "# Bai 1\n",
    "n = int(input())\n",
    "print(n*2)"
   ]
  },
  {
   "cell_type": "code",
   "execution_count": 11,
   "id": "b66ade8d-5de9-4848-9f36-f83a8c58749e",
   "metadata": {},
   "outputs": [
    {
     "name": "stdin",
     "output_type": "stream",
     "text": [
      " 3 5\n"
     ]
    },
    {
     "name": "stdout",
     "output_type": "stream",
     "text": [
      "7.93\n"
     ]
    }
   ],
   "source": [
    "# Bai 2\n",
    "PI = 3.14\n",
    "a,b = map(int, input().split())\n",
    "x = a / 2\n",
    "print(f\"{a*b - x*x*PI:.2f}\")"
   ]
  },
  {
   "cell_type": "code",
   "execution_count": 14,
   "id": "5427624c-c3fb-4a86-a0a2-996e470f4f11",
   "metadata": {},
   "outputs": [
    {
     "name": "stdin",
     "output_type": "stream",
     "text": [
      " B\n"
     ]
    },
    {
     "name": "stdout",
     "output_type": "stream",
     "text": [
      "b\n"
     ]
    }
   ],
   "source": [
    "# Bai 3\n",
    "c = input()\n",
    "if c.isupper():\n",
    "    print(c.lower())\n",
    "else: \n",
    "    print(c.upper())"
   ]
  },
  {
   "cell_type": "code",
   "execution_count": 18,
   "id": "263b3349-d9ce-42d2-a736-71e0b412e826",
   "metadata": {},
   "outputs": [
    {
     "name": "stdin",
     "output_type": "stream",
     "text": [
      " a\n"
     ]
    },
    {
     "name": "stdout",
     "output_type": "stream",
     "text": [
      "a là kí tự alphabet\n"
     ]
    }
   ],
   "source": [
    "# Bai 4\n",
    "c = input()\n",
    "if c.isalpha():\n",
    "    print(f\"{c} là kí tự alphabet\")\n",
    "else:\n",
    "    print(f\"{c} không phải là kí tự alphabet\")"
   ]
  },
  {
   "cell_type": "code",
   "execution_count": 21,
   "id": "5137b4f5-48b3-496a-9310-2b480cfd00c1",
   "metadata": {},
   "outputs": [
    {
     "name": "stdin",
     "output_type": "stream",
     "text": [
      " N\n"
     ]
    },
    {
     "name": "stdout",
     "output_type": "stream",
     "text": [
      "m\n"
     ]
    }
   ],
   "source": [
    "# Bai 5\n",
    "c = input()\n",
    "if c == 'A':\n",
    "    print(\"Truong hop dac biet\")\n",
    "else:\n",
    "    x = ord(c.lower())\n",
    "    print(chr(x-1))"
   ]
  },
  {
   "cell_type": "code",
   "execution_count": 37,
   "id": "6d5fdf19-6f89-48c0-9a11-e3e6f3fc4a99",
   "metadata": {},
   "outputs": [
    {
     "name": "stdin",
     "output_type": "stream",
     "text": [
      " 3 6 8\n"
     ]
    },
    {
     "name": "stdout",
     "output_type": "stream",
     "text": [
      "7.6\n"
     ]
    }
   ],
   "source": [
    "# Bai 6\n",
    "from math import sqrt\n",
    "a,b,c = map(int, input().split())\n",
    "if min(a,b,c) <= 0 or a+b <= c or a+c <= b or b+c <= a:\n",
    "    print(\"Khong phai 3 canh cua tam giac\")\n",
    "else:\n",
    "    p = (a+b+c)/2\n",
    "    s = p*(p-a)*(p-b)*(p-c)\n",
    "    print(f\"{sqrt(s):.1f}\")"
   ]
  },
  {
   "cell_type": "code",
   "execution_count": 38,
   "id": "7cd7690e-bc5e-424f-921b-8b7a9fd473a6",
   "metadata": {},
   "outputs": [
    {
     "name": "stdin",
     "output_type": "stream",
     "text": [
      " abcdefghijklkdklsakdpkasdpoapodksadsaodkasposaopd\n"
     ]
    },
    {
     "name": "stdout",
     "output_type": "stream",
     "text": [
      "e i\n"
     ]
    }
   ],
   "source": [
    "# Bai 7\n",
    "s = input()\n",
    "print(s[4], s[8])"
   ]
  },
  {
   "cell_type": "code",
   "execution_count": 45,
   "id": "6d1ec542-d780-4e5d-a830-37cefb5e1021",
   "metadata": {},
   "outputs": [
    {
     "name": "stdin",
     "output_type": "stream",
     "text": [
      "Ten chu ho:  Pham Xuan Toai\n",
      "Chi so thang truoc:  1020\n",
      "Chi so thang nay:  1070\n"
     ]
    },
    {
     "name": "stdout",
     "output_type": "stream",
     "text": [
      "Ho va ten: Pham Xuan Toai\n",
      "Tien phai tra la: 107136\n"
     ]
    }
   ],
   "source": [
    "# Bai 8\n",
    "ten = input(\"Ten chu ho: \")\n",
    "a = int(input(\"Chi so thang truoc: \"))\n",
    "b = int(input(\"Chi so thang nay: \"))\n",
    "x = b-a\n",
    "ans = 1984*min(50,x)\n",
    "if x > 50:\n",
    "    ans += min(50,x-51+1)*2050\n",
    "if x > 100:\n",
    "    ans += min(100,x-101+1)*2380\n",
    "if x > 200:\n",
    "    ans += min(100,x-201+1)*2998\n",
    "if x > 300:\n",
    "    ans += min(100,x-301+1)*3350\n",
    "if x > 400:\n",
    "    ans += (x-401+1)*3460\n",
    "print(\"Ho va ten:\",ten)\n",
    "print(\"Tien phai tra la:\",ans*108//100)"
   ]
  }
 ],
 "metadata": {
  "kernelspec": {
   "display_name": "Python 3 (ipykernel)",
   "language": "python",
   "name": "python3"
  },
  "language_info": {
   "codemirror_mode": {
    "name": "ipython",
    "version": 3
   },
   "file_extension": ".py",
   "mimetype": "text/x-python",
   "name": "python",
   "nbconvert_exporter": "python",
   "pygments_lexer": "ipython3",
   "version": "3.11.1"
  }
 },
 "nbformat": 4,
 "nbformat_minor": 5
}
