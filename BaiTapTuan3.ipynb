{
 "cells": [
  {
   "cell_type": "code",
   "execution_count": 2,
   "id": "d9bb0070-ac63-4a1e-a878-695e33264fc8",
   "metadata": {},
   "outputs": [
    {
     "name": "stdin",
     "output_type": "stream",
     "text": [
      " 4 8\n"
     ]
    },
    {
     "name": "stdout",
     "output_type": "stream",
     "text": [
      "8 4\n"
     ]
    }
   ],
   "source": [
    "# W3A2\n",
    "a, b = map(int, input().split())\n",
    "a = a ^ b\n",
    "b = b ^ a\n",
    "a = a ^ b\n",
    "print(a, b)"
   ]
  },
  {
   "cell_type": "code",
   "execution_count": 5,
   "id": "71c1e4b6-316a-4022-8fdc-b94b05d5d59e",
   "metadata": {},
   "outputs": [
    {
     "name": "stdin",
     "output_type": "stream",
     "text": [
      " 16\n"
     ]
    },
    {
     "name": "stdout",
     "output_type": "stream",
     "text": [
      "La luy thua cua 2\n"
     ]
    }
   ],
   "source": [
    "# W3A3\n",
    "n = int(input())\n",
    "if n & (n-1) == 0:\n",
    "    print(\"La luy thua cua 2\")\n",
    "else:\n",
    "    print(\"Khong la luy thua cua 2\")"
   ]
  },
  {
   "cell_type": "code",
   "execution_count": 13,
   "id": "ed8b793a-bd31-4e67-8652-a190eb1308eb",
   "metadata": {},
   "outputs": [
    {
     "name": "stdin",
     "output_type": "stream",
     "text": [
      " 4.7 1.2\n"
     ]
    },
    {
     "name": "stdout",
     "output_type": "stream",
     "text": [
      "3\n"
     ]
    }
   ],
   "source": [
    "# W3A4\n",
    "import math\n",
    "m,n = map(float, input().split())\n",
    "print(math.floor(m / n))"
   ]
  },
  {
   "cell_type": "code",
   "execution_count": 15,
   "id": "7c13d0b7-1c19-414d-8b3f-34a6c271997b",
   "metadata": {},
   "outputs": [
    {
     "name": "stdin",
     "output_type": "stream",
     "text": [
      " 3.61 1.2\n"
     ]
    },
    {
     "name": "stdout",
     "output_type": "stream",
     "text": [
      "4\n"
     ]
    }
   ],
   "source": [
    "# W3A5\n",
    "import math\n",
    "m,n = map(float, input().split())\n",
    "print(math.ceil(m / n))"
   ]
  },
  {
   "cell_type": "code",
   "execution_count": 17,
   "id": "379352ed-e5be-4ece-83a2-5044ae58fe79",
   "metadata": {},
   "outputs": [
    {
     "name": "stdin",
     "output_type": "stream",
     "text": [
      " 4\n"
     ]
    },
    {
     "name": "stdout",
     "output_type": "stream",
     "text": [
      "Even\n"
     ]
    }
   ],
   "source": [
    "# W3A6\n",
    "x = int(input())\n",
    "print(\"Even\" if x % 2 == 0 else \"Odd\")"
   ]
  },
  {
   "cell_type": "code",
   "execution_count": 20,
   "id": "5eb069cf-ddee-4475-acdc-b20f399cf065",
   "metadata": {},
   "outputs": [
    {
     "name": "stdin",
     "output_type": "stream",
     "text": [
      " -2 -2\n"
     ]
    },
    {
     "name": "stdout",
     "output_type": "stream",
     "text": [
      "Yes\n"
     ]
    }
   ],
   "source": [
    "# W3A7\n",
    "a, b = map(int, input().split())\n",
    "print(\"Yes\" if a < 0 and b < 0 else \"No\")"
   ]
  },
  {
   "cell_type": "code",
   "execution_count": 21,
   "id": "45cbf14d-d4c0-4cd6-b887-53aefe4519b7",
   "metadata": {},
   "outputs": [
    {
     "name": "stdin",
     "output_type": "stream",
     "text": [
      "Nhap chuoi a:  dsadsa\n",
      "Nhap chuoi b:  dsa\n"
     ]
    },
    {
     "name": "stdout",
     "output_type": "stream",
     "text": [
      "True\n"
     ]
    }
   ],
   "source": [
    "# W3A8\n",
    "a = input(\"Nhap chuoi a: \")\n",
    "b = input(\"Nhap chuoi b: \")\n",
    "print(\"True\" if len(a) > len(b) else \"False\")"
   ]
  },
  {
   "cell_type": "code",
   "execution_count": 1,
   "id": "e7fa98b1-f46d-466a-a49c-d549e12a69b2",
   "metadata": {},
   "outputs": [
    {
     "name": "stdin",
     "output_type": "stream",
     "text": [
      " 3 4 5\n"
     ]
    },
    {
     "name": "stdout",
     "output_type": "stream",
     "text": [
      "La ba canh cua mot tam giac\n"
     ]
    }
   ],
   "source": [
    "# W3A9\n",
    "x = list(map(int, input().split()))\n",
    "x.sort()\n",
    "a, b, c = [ x[i] for i in range(3) ]\n",
    "print(\"No\" if a + b <= c else \"Yes\")"
   ]
  },
  {
   "cell_type": "code",
   "execution_count": 2,
   "id": "9e31961e-9a19-4aff-bb38-91dc754630ab",
   "metadata": {},
   "outputs": [
    {
     "name": "stdin",
     "output_type": "stream",
     "text": [
      " 3 4 5 6\n"
     ]
    },
    {
     "name": "stdout",
     "output_type": "stream",
     "text": [
      "6\n"
     ]
    }
   ],
   "source": [
    "# W3A10\n",
    "a, b, c, d = map(int, input().split())\n",
    "print(max(a,b,c,d))"
   ]
  },
  {
   "cell_type": "code",
   "execution_count": 4,
   "id": "d3387a1a-e760-4e55-b00e-10ce86f9ce4a",
   "metadata": {},
   "outputs": [
    {
     "name": "stdin",
     "output_type": "stream",
     "text": [
      " 3 4 5\n"
     ]
    },
    {
     "name": "stdout",
     "output_type": "stream",
     "text": [
      "Tam giac thuong\n"
     ]
    }
   ],
   "source": [
    "# W3A11\n",
    "x = list(map(int, input().split()))\n",
    "x.sort()\n",
    "a, b, c = [ x[i] for i in range(3) ]\n",
    "if a + b <= c:\n",
    "    print(\"Khong phai tam giac\")\n",
    "else:\n",
    "    if a == b or b == c:\n",
    "        if a == b == c:\n",
    "            print(\"Tam giac deu\")\n",
    "        else:\n",
    "            print(\"Tam giac can\")\n",
    "    else:\n",
    "        print(\"Tam giac thuong\")"
   ]
  },
  {
   "cell_type": "code",
   "execution_count": 8,
   "id": "83777874-bae5-4efd-97a0-7261d6bfd688",
   "metadata": {},
   "outputs": [
    {
     "name": "stdin",
     "output_type": "stream",
     "text": [
      " 800\n"
     ]
    },
    {
     "name": "stdout",
     "output_type": "stream",
     "text": [
      "Yes\n"
     ]
    }
   ],
   "source": [
    "# W3A12\n",
    "n = int(input())\n",
    "print(\"Yes\" if (n % 4 == 0 and n % 100 != 0) or n % 400 == 0 else \"No\" )"
   ]
  },
  {
   "cell_type": "code",
   "execution_count": 9,
   "id": "17105b12-75a5-45f1-b3d3-ed443271826e",
   "metadata": {},
   "outputs": [
    {
     "name": "stdin",
     "output_type": "stream",
     "text": [
      " 3 5\n"
     ]
    },
    {
     "name": "stdout",
     "output_type": "stream",
     "text": [
      "Pt co nghiem duy nhat la: -1.67\n"
     ]
    }
   ],
   "source": [
    "# W3A14\n",
    "a, b = map(int, input().split())\n",
    "if a == 0:\n",
    "    if b == 0:\n",
    "        print(\"Vo so nghiem\")\n",
    "    else:\n",
    "        print(\"Vo nghiem\")\n",
    "else:\n",
    "    print(f\"Pt co nghiem duy nhat la: {-b / a:.2f}\")"
   ]
  },
  {
   "cell_type": "code",
   "execution_count": 10,
   "id": "bf9500a9-b25a-4c5c-8f93-65b7d047190a",
   "metadata": {},
   "outputs": [
    {
     "name": "stdin",
     "output_type": "stream",
     "text": [
      " 7.8\n"
     ]
    },
    {
     "name": "stdout",
     "output_type": "stream",
     "text": [
      "Kha\n"
     ]
    }
   ],
   "source": [
    "# W3A15\n",
    "n = float(input())\n",
    "if n >= 8:\n",
    "    print(\"Gioi\")\n",
    "elif n >= 6.5:\n",
    "    print(\"Kha\")\n",
    "elif n >= 5:\n",
    "    print(\"Trung binh\")\n",
    "else:\n",
    "    print(\"Yeu\")"
   ]
  },
  {
   "cell_type": "code",
   "execution_count": 22,
   "id": "3f34e4d6-6833-424d-9195-e6659c9a7759",
   "metadata": {},
   "outputs": [
    {
     "name": "stdin",
     "output_type": "stream",
     "text": [
      " 5.99999999999999999999\n"
     ]
    },
    {
     "name": "stdout",
     "output_type": "stream",
     "text": [
      "Lam tron xuong: 6\n",
      "Lam tron len: 6\n",
      "Lam tron den so nguyen gan nhat: 6\n"
     ]
    }
   ],
   "source": [
    "# W3A16\n",
    "n = float(input())\n",
    "print(\"Lam tron xuong:\", int(n))\n",
    "print(\"Lam tron len:\", int(n) if n == int(n) else int(n) + 1)\n",
    "print(\"Lam tron den so nguyen gan nhat:\", round(n))"
   ]
  },
  {
   "cell_type": "code",
   "execution_count": 26,
   "id": "ec351add-43c3-45b5-9910-de07d1aac513",
   "metadata": {},
   "outputs": [
    {
     "name": "stdin",
     "output_type": "stream",
     "text": [
      " 2 4 8 16\n"
     ]
    },
    {
     "name": "stdout",
     "output_type": "stream",
     "text": [
      "La cap so nhan\n"
     ]
    }
   ],
   "source": [
    "# W3A17\n",
    "a, b, c, d = map(int, input().split())\n",
    "print(\"La cap so nhan\" if b % a == 0 and b // a == c // b == d // c else \"Khong la cap so nhan\")"
   ]
  },
  {
   "cell_type": "code",
   "execution_count": null,
   "id": "69413f52-53fc-4672-a9d0-0d42d309a948",
   "metadata": {},
   "outputs": [],
   "source": []
  }
 ],
 "metadata": {
  "kernelspec": {
   "display_name": "Python 3 (ipykernel)",
   "language": "python",
   "name": "python3"
  },
  "language_info": {
   "codemirror_mode": {
    "name": "ipython",
    "version": 3
   },
   "file_extension": ".py",
   "mimetype": "text/x-python",
   "name": "python",
   "nbconvert_exporter": "python",
   "pygments_lexer": "ipython3",
   "version": "3.11.1"
  }
 },
 "nbformat": 4,
 "nbformat_minor": 5
}
